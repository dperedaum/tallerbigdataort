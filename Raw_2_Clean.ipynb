{
 "cells": [
  {
   "cell_type": "code",
   "execution_count": 1,
   "id": "4bf9c221-1c63-4b4e-b069-3f0da0a40cf8",
   "metadata": {},
   "outputs": [
    {
     "name": "stderr",
     "output_type": "stream",
     "text": [
      "Setting default log level to \"WARN\".\n",
      "To adjust logging level use sc.setLogLevel(newLevel). For SparkR, use setLogLevel(newLevel).\n"
     ]
    },
    {
     "name": "stdout",
     "output_type": "stream",
     "text": [
      "2023-11-18T22:04:19,019 WARN [Thread-4] org.apache.hadoop.util.NativeCodeLoader - Unable to load native-hadoop library for your platform... using builtin-java classes where applicable\n"
     ]
    }
   ],
   "source": [
    "from pyspark.sql import SparkSession\n",
    "\n",
    "from pyspark.sql.functions import *\n",
    "from pyspark.sql.types import *\n",
    "\n",
    "spark = SparkSession \\\n",
    "    .builder \\\n",
    "    .appName(\"limpiar_datos\") \\\n",
    "    .getOrCreate()"
   ]
  },
  {
   "cell_type": "markdown",
   "id": "b6a68742-333e-405d-93a6-dc8c203bb4c9",
   "metadata": {},
   "source": [
    "### Carga y limpieza de Usuarios"
   ]
  },
  {
   "cell_type": "code",
   "execution_count": 214,
   "id": "1fb0b96b-17c2-43e8-8533-4cd5c9051d91",
   "metadata": {},
   "outputs": [],
   "source": [
    "df = spark.read.csv('/datalake/raw/Usuarios.csv', header=True, sep=',')"
   ]
  },
  {
   "cell_type": "code",
   "execution_count": 215,
   "id": "5d514037-2bf1-41ac-83c1-eef0afd8425d",
   "metadata": {},
   "outputs": [
    {
     "name": "stdout",
     "output_type": "stream",
     "text": [
      "root\n",
      " |-- id_usuario: string (nullable = true)\n",
      " |-- nombre: string (nullable = true)\n",
      " |-- apellido: string (nullable = true)\n",
      " |-- email: string (nullable = true)\n",
      " |-- sexo: string (nullable = true)\n",
      " |-- pais: string (nullable = true)\n",
      " |-- actividad: string (nullable = true)\n",
      " |-- subscripcion: string (nullable = true)\n",
      " |-- fecha_subs: string (nullable = true)\n",
      " |-- fecha_renov: string (nullable = true)\n",
      " |-- ultimo_pago: string (nullable = true)\n",
      "\n"
     ]
    }
   ],
   "source": [
    "df.printSchema()"
   ]
  },
  {
   "cell_type": "code",
   "execution_count": 216,
   "id": "982fccc2-d2ba-410c-b484-a8bd7369a94f",
   "metadata": {},
   "outputs": [
    {
     "name": "stdout",
     "output_type": "stream",
     "text": [
      "+--------------------+-----------+-------------+--------------------+----------+--------------+-------------+------------+----------+-----------+-----------+\n",
      "|          id_usuario|     nombre|     apellido|               email|      sexo|          pais|    actividad|subscripcion|fecha_subs|fecha_renov|ultimo_pago|\n",
      "+--------------------+-----------+-------------+--------------------+----------+--------------+-------------+------------+----------+-----------+-----------+\n",
      "|9efa1289-5256-49c...|      Elise|       Austen|  eausten1@unblog.fr|    Female|        Brazil|     natacion|      basica|12/13/2022| 10/18/2023| 12/25/2022|\n",
      "|b4d30551-59cb-45b...|   Rochella|      Davidof|rdavidof2@timeson...|Non-binary|        Russia|personalizado|      basica|04/22/2023| 08/31/2023| 07/20/2023|\n",
      "|effbcd55-e394-487...|Worthington|  Sherringham|wsherringham5@tut...|      Male|     Indonesia|personalizado|       anual|03/26/2023| 11/07/2023| 10/27/2023|\n",
      "|fc621f46-e0ef-4ad...|    Camella|       Crooke|ccrooke6@newsvine...|  Bigender|        Russia|         yoga|      basica|12/17/2022| 04/02/2023| 10/17/2023|\n",
      "|5cc10861-3ddd-467...|   Anatollo|        Jeggo|  ajeggo7@oracle.com|      null|          Cuba|         yoga|      basica|09/20/2023| 10/06/2023| 01/22/2023|\n",
      "|1ee35bd7-2a17-4a8...|       Dore|       Strong|   dstrong8@ehow.com|    Female|         China|      basquet|       anual|05/01/2023| 07/17/2023| 08/21/2023|\n",
      "|969d8cac-57dc-4e6...|      Royce|MacGillicuddy|rmacgillicuddyb@h...|      Male|        Brazil|      basquet|      basica|12/24/2022| 06/06/2023| 10/16/2023|\n",
      "|4df73c8b-4928-4cf...|      Dredi|     Gritland|dgritlande@friend...|    Female|       Bolivia|       futbol|      basica|01/05/2023| 10/14/2023| 04/02/2023|\n",
      "|ec0773cb-7e77-4bb...|      Janel|    Kilgallen|jkilgallenf@behan...|    Female|       Vietnam|         null|      basica|12/04/2022| 12/29/2022| 09/09/2023|\n",
      "|077cc415-56b7-4e3...|    Shepard|   McCullouch|smccullouchh@icio.us|      null|        Canada|         yoga|       anual|04/27/2023| 11/05/2023| 10/26/2023|\n",
      "|6073dae1-6fca-4a3...|   Berenice|       Fudger|    bfudgerj@nps.gov|    Female|         China|     natacion|      basica|08/05/2023| 10/14/2023| 08/23/2023|\n",
      "|634264b8-26d7-4cd...|       Hedy|    Cotterill|hcotterillk@oakle...|   Agender|         China|         yoga|      basica|06/08/2023| 11/17/2023| 06/28/2023|\n",
      "|91971f49-2484-444...|    Gaylene|       Fasham|     gfashaml@go.com|    Female|        Brazil|     triatlon|       anual|04/17/2023| 05/31/2023| 04/10/2023|\n",
      "|0075f59b-4ec7-49b...|      Becca|      Schwand|bschwandm@deviant...|  Bigender|        Russia|personalizado|       anual|01/27/2023| 02/23/2023| 12/15/2022|\n",
      "|dab0b8a3-0fd7-499...|      Nicol|       Whyard|nwhyardn@newsvine...|      Male|     Indonesia|       futbol|      basica|06/07/2023| 08/14/2023| 03/31/2023|\n",
      "|60e15872-eddb-410...|     Cherry|    Bettinson|cbettinsono@media...|  Bigender|         China|       futbol|       anual|03/14/2023| 09/16/2023| 02/16/2023|\n",
      "|b54cc38b-9916-4b9...|      Ashia|       Tramel|atramelp@omniture...|    Female|      Malaysia|     triatlon|      basica|06/25/2023| 10/26/2023| 05/31/2023|\n",
      "|bc1cb69e-5aa0-496...|    Darnell|      Tumpane|dtumpanes@over-bl...|      Male|        Serbia|        tenis|      basica|02/07/2023| 08/23/2023| 01/06/2023|\n",
      "|6b063767-94ad-4b5...|     Burton|     Priscott|bpriscottu@reverb...|      Male|       Morocco|       futbol|       anual|08/05/2023| 11/13/2023| 11/12/2023|\n",
      "|35d25e54-e08b-475...|     Carlie|        Skyme|cskymew@rakuten.c...|      Male|United Kingdom|      basquet|       anual|12/01/2022| 03/17/2023| 03/21/2023|\n",
      "+--------------------+-----------+-------------+--------------------+----------+--------------+-------------+------------+----------+-----------+-----------+\n",
      "only showing top 20 rows\n",
      "\n"
     ]
    }
   ],
   "source": [
    "df.show()"
   ]
  },
  {
   "cell_type": "code",
   "execution_count": 220,
   "id": "37c5efd3-25ea-4a6f-b492-880b13b5272b",
   "metadata": {},
   "outputs": [],
   "source": [
    "df_clean = df.withColumn(\"fecha_subs\", to_date(df[\"fecha_subs\"], \"MM/dd/yyyy\"))\n",
    "df_clean = df_clean.withColumn(\"fecha_renov\", to_date(df[\"fecha_renov\"], \"MM/dd/yyyy\"))\n",
    "df_clean = df_clean.withColumn(\"ultimo_pago\", to_date(df[\"ultimo_pago\"], \"MM/dd/yyyy\"))"
   ]
  },
  {
   "cell_type": "code",
   "execution_count": 221,
   "id": "65c5456d-9b10-46d2-931d-1fdabd29c591",
   "metadata": {},
   "outputs": [
    {
     "name": "stdout",
     "output_type": "stream",
     "text": [
      "root\n",
      " |-- id_usuario: string (nullable = true)\n",
      " |-- nombre: string (nullable = true)\n",
      " |-- apellido: string (nullable = true)\n",
      " |-- email: string (nullable = true)\n",
      " |-- sexo: string (nullable = true)\n",
      " |-- pais: string (nullable = true)\n",
      " |-- actividad: string (nullable = true)\n",
      " |-- subscripcion: string (nullable = true)\n",
      " |-- fecha_subs: date (nullable = true)\n",
      " |-- fecha_renov: date (nullable = true)\n",
      " |-- ultimo_pago: date (nullable = true)\n",
      "\n"
     ]
    }
   ],
   "source": [
    "df_clean.printSchema()"
   ]
  },
  {
   "cell_type": "code",
   "execution_count": 222,
   "id": "1f1adf5c-441a-47c3-9ca7-42e19373222d",
   "metadata": {},
   "outputs": [
    {
     "name": "stdout",
     "output_type": "stream",
     "text": [
      "+----------+------+--------+-----+----+----+---------+------------+----------+-----------+-----------+\n",
      "|id_usuario|nombre|apellido|email|sexo|pais|actividad|subscripcion|fecha_subs|fecha_renov|ultimo_pago|\n",
      "+----------+------+--------+-----+----+----+---------+------------+----------+-----------+-----------+\n",
      "|         0|     0|       0|    0|  63|   0|       60|           0|         0|          0|          0|\n",
      "+----------+------+--------+-----+----+----+---------+------------+----------+-----------+-----------+\n",
      "\n"
     ]
    }
   ],
   "source": [
    "null_counts = df_clean.select([sum(col(c).isNull().cast(\"int\")).alias(c) for c in df_clean.columns])\n",
    "null_counts.show()"
   ]
  },
  {
   "cell_type": "markdown",
   "id": "498fb565-e683-49ea-888c-2187add01cdd",
   "metadata": {},
   "source": [
    "- En el caso de los datos de usuario se pueden apreciar que se tienen 63 filas donde en la columna \"sexo\" se tiene el valor null y lo mismo sucede en 60 filas de la columna \"actividad\". Dado que no son columnas que se considere relevantes para análisis posteriores se decide mantener las filas con estos valores."
   ]
  },
  {
   "cell_type": "code",
   "execution_count": 223,
   "id": "1f7b3885-a192-45a8-a382-536219a2cc55",
   "metadata": {},
   "outputs": [],
   "source": [
    "df_clean.write.mode(\"overwrite\").parquet(\"/datalake/clean/usuarios\")"
   ]
  },
  {
   "cell_type": "markdown",
   "id": "29c185c2-d9d4-40ec-a414-cd028e4b34d4",
   "metadata": {},
   "source": [
    "### Carga y limpieza de Actividades"
   ]
  },
  {
   "cell_type": "code",
   "execution_count": 205,
   "id": "82bd3be1-1303-411c-92ba-758bcb711eda",
   "metadata": {},
   "outputs": [],
   "source": [
    "df_act = spark.read.csv('/datalake/raw/Actividades.csv', header=True, sep=',')"
   ]
  },
  {
   "cell_type": "code",
   "execution_count": 206,
   "id": "ab531a77-9795-49be-8bba-4e02d4d8482d",
   "metadata": {},
   "outputs": [
    {
     "name": "stdout",
     "output_type": "stream",
     "text": [
      "root\n",
      " |-- id_actividad: string (nullable = true)\n",
      " |-- id_usuario: string (nullable = true)\n",
      " |-- id_dispositivo: string (nullable = true)\n",
      " |-- id_plan: string (nullable = true)\n",
      " |-- pais: string (nullable = true)\n",
      " |-- Longitud: string (nullable = true)\n",
      " |-- Latitud: string (nullable = true)\n",
      " |-- duracion: string (nullable = true)\n",
      " |-- fecha_hora: string (nullable = true)\n",
      "\n"
     ]
    }
   ],
   "source": [
    "df_act.printSchema()"
   ]
  },
  {
   "cell_type": "code",
   "execution_count": 207,
   "id": "39c26cb4-1e94-4a03-acf8-852a3ea6d811",
   "metadata": {},
   "outputs": [
    {
     "name": "stdout",
     "output_type": "stream",
     "text": [
      "+--------------------+--------------------+--------------------+--------------------+--------------+--------+--------+--------+----------------+\n",
      "|        id_actividad|          id_usuario|      id_dispositivo|             id_plan|          pais|Longitud| Latitud|duracion|      fecha_hora|\n",
      "+--------------------+--------------------+--------------------+--------------------+--------------+--------+--------+--------+----------------+\n",
      "|d2b9f5a4-e457-406...|9efa1289-5256-49c...|5f6742cf-0cc3-499...|1a257404-2741-4d5...|        Brazil|-47.9247|-38.5258|    1.47|07/08/2023 06:10|\n",
      "|742ceebe-7cbd-42a...|b4d30551-59cb-45b...|9c9d7ede-4915-4fd...|296f1010-fd8b-4fe...|        Russia|100.6432| 60.0272|    2.78|03/01/2023 02:16|\n",
      "|f079c279-1249-40e...|effbcd55-e394-487...|af1e4b22-9836-4ff...|d3c2f38b-249f-40c...|     Indonesia|112.6225| -7.7611|    3.43|09/17/2023 07:09|\n",
      "|b8db20aa-9915-426...|fc621f46-e0ef-4ad...|5d5aa38b-9e5e-412...|b206f2a3-5ddd-47a...|        Russia|100.6432| 60.0272|     2.7|05/27/2023 10:45|\n",
      "|59b61169-ecde-498...|5cc10861-3ddd-467...|39e8db1f-0258-459...|147cd3b7-c8c6-4b6...|          Cuba|-78.4163| 22.2258|    1.45|08/24/2023 06:49|\n",
      "|8ea971d8-bc3e-44c...|1ee35bd7-2a17-4a8...|6188ae01-946b-40e...|0c384ba2-f2c6-4ca...|         China|106.3456| 35.3371|    1.96|05/18/2023 00:35|\n",
      "|f0c4dc60-3cf3-4f9...|969d8cac-57dc-4e6...|0b8d0acd-7391-449...|bd1a59f8-8928-4e7...|        Brazil|-47.9247|-38.5258|     1.7|05/14/2023 09:20|\n",
      "|32bf0c7b-f21a-44b...|4df73c8b-4928-4cf...|cac63327-f1b8-4ba...|952079f9-5b2e-4fe...|       Bolivia|-63.2369|-17.4052|    3.99|12/08/2022 01:13|\n",
      "|d25130a0-8a5d-4d4...|ec0773cb-7e77-4bb...|a8ec5dc7-b977-432...|2c829d9d-fe05-41c...|       Vietnam|105.7858| 17.0296|    3.14|10/29/2023 14:26|\n",
      "|c1cc1ec2-c886-401...|077cc415-56b7-4e3...|5f6742cf-0cc3-499...|1e2d7203-4d5d-4bc...|        Canada|-102.234|  54.263|    3.39|08/23/2023 02:31|\n",
      "|bbf9ea4b-92da-4d5...|6073dae1-6fca-4a3...|9c9d7ede-4915-4fd...|5e91d1d7-7a6d-45c...|         China|106.3456| 35.3371|    1.36|02/28/2023 05:34|\n",
      "|b17e5626-7322-41f...|634264b8-26d7-4cd...|af1e4b22-9836-4ff...|9486001c-d371-445...|         China|106.3456| 35.3371|    2.12|10/16/2023 02:16|\n",
      "|85973b7a-ccbc-468...|91971f49-2484-444...|5d5aa38b-9e5e-412...|ae8ad1f2-6948-483...|        Brazil|-47.9247|-38.5258|     2.4|04/18/2023 14:43|\n",
      "|450dfea1-0901-403...|0075f59b-4ec7-49b...|39e8db1f-0258-459...|ad24d4a2-6d6a-4fd...|        Russia|100.6432| 60.0272|    1.03|04/04/2023 02:09|\n",
      "|403e65e0-fb25-4c9...|dab0b8a3-0fd7-499...|6188ae01-946b-40e...|45d226cb-97e2-468...|     Indonesia|112.6225| -7.7611|    2.06|06/14/2023 20:30|\n",
      "|2e97bcf6-f08d-438...|60e15872-eddb-410...|0b8d0acd-7391-449...|6d2e59c2-d835-4d0...|         China|106.3456| 35.3371|    3.41|03/14/2023 23:00|\n",
      "|97a271fd-5536-454...|b54cc38b-9916-4b9...|cac63327-f1b8-4ba...|3daa65e4-958b-4eb...|      Malaysia|103.3027|  4.6123|    3.27|09/27/2023 11:21|\n",
      "|1464ffdb-52a1-4ca...|bc1cb69e-5aa0-496...|a8ec5dc7-b977-432...|a862dc28-bd36-457...|        Serbia| 21.0284| 44.0241|    3.37|08/03/2023 23:13|\n",
      "|a0aef17f-da73-46f...|6b063767-94ad-4b5...|5f6742cf-0cc3-499...|03469e27-a2dd-436...|       Morocco| -7.5938|  33.685|    3.86|01/28/2023 15:36|\n",
      "|b3b399f8-ded7-4ea...|35d25e54-e08b-475...|9c9d7ede-4915-4fd...|cd4d63b1-f532-45d...|United Kingdom| -0.1257| 51.5086|    3.74|01/26/2023 21:32|\n",
      "+--------------------+--------------------+--------------------+--------------------+--------------+--------+--------+--------+----------------+\n",
      "only showing top 20 rows\n",
      "\n"
     ]
    }
   ],
   "source": [
    "df_act.show()"
   ]
  },
  {
   "cell_type": "code",
   "execution_count": 208,
   "id": "2a432b72-b869-4291-b4ac-a4ba3c921635",
   "metadata": {},
   "outputs": [],
   "source": [
    "df_act = df_act.withColumnRenamed(\"longitud\", \"Longitud\")\n",
    "df_act = df_act.withColumnRenamed(\"latitud\", \"Latitud\")"
   ]
  },
  {
   "cell_type": "code",
   "execution_count": 209,
   "id": "409ccfa9-37b6-4e19-afed-df74687078b1",
   "metadata": {},
   "outputs": [],
   "source": [
    "df_act = df_act.withColumn('duracion', col('duracion').cast(IntegerType()))\n",
    "df_act = df_act.withColumn('fecha_hora', to_timestamp(df_act['fecha_hora'], \"MM/dd/yyyy HH:mm\"))\n",
    "df_act = df_act.withColumn('latitud', col('latitud').cast(FloatType()))\n",
    "df_act = df_act.withColumn('longitud', col('longitud').cast(FloatType()))"
   ]
  },
  {
   "cell_type": "code",
   "execution_count": 210,
   "id": "1e97dd13-9143-400d-814b-2bb3030dc1fa",
   "metadata": {},
   "outputs": [
    {
     "name": "stdout",
     "output_type": "stream",
     "text": [
      "root\n",
      " |-- id_actividad: string (nullable = true)\n",
      " |-- id_usuario: string (nullable = true)\n",
      " |-- id_dispositivo: string (nullable = true)\n",
      " |-- id_plan: string (nullable = true)\n",
      " |-- pais: string (nullable = true)\n",
      " |-- longitud: float (nullable = true)\n",
      " |-- latitud: float (nullable = true)\n",
      " |-- duracion: integer (nullable = true)\n",
      " |-- fecha_hora: timestamp (nullable = true)\n",
      "\n"
     ]
    }
   ],
   "source": [
    "df_act.printSchema()"
   ]
  },
  {
   "cell_type": "code",
   "execution_count": 211,
   "id": "64f06a9b-fb31-44dd-b0b0-4cc4e48ea813",
   "metadata": {},
   "outputs": [
    {
     "name": "stdout",
     "output_type": "stream",
     "text": [
      "+--------------------+--------------------+--------------------+--------------------+--------------+--------+--------+--------+-------------------+\n",
      "|        id_actividad|          id_usuario|      id_dispositivo|             id_plan|          pais|longitud| latitud|duracion|         fecha_hora|\n",
      "+--------------------+--------------------+--------------------+--------------------+--------------+--------+--------+--------+-------------------+\n",
      "|d2b9f5a4-e457-406...|9efa1289-5256-49c...|5f6742cf-0cc3-499...|1a257404-2741-4d5...|        Brazil|-47.9247|-38.5258|       1|2023-07-08 06:10:00|\n",
      "|742ceebe-7cbd-42a...|b4d30551-59cb-45b...|9c9d7ede-4915-4fd...|296f1010-fd8b-4fe...|        Russia|100.6432| 60.0272|       2|2023-03-01 02:16:00|\n",
      "|f079c279-1249-40e...|effbcd55-e394-487...|af1e4b22-9836-4ff...|d3c2f38b-249f-40c...|     Indonesia|112.6225| -7.7611|       3|2023-09-17 07:09:00|\n",
      "|b8db20aa-9915-426...|fc621f46-e0ef-4ad...|5d5aa38b-9e5e-412...|b206f2a3-5ddd-47a...|        Russia|100.6432| 60.0272|       2|2023-05-27 10:45:00|\n",
      "|59b61169-ecde-498...|5cc10861-3ddd-467...|39e8db1f-0258-459...|147cd3b7-c8c6-4b6...|          Cuba|-78.4163| 22.2258|       1|2023-08-24 06:49:00|\n",
      "|8ea971d8-bc3e-44c...|1ee35bd7-2a17-4a8...|6188ae01-946b-40e...|0c384ba2-f2c6-4ca...|         China|106.3456| 35.3371|       1|2023-05-18 00:35:00|\n",
      "|f0c4dc60-3cf3-4f9...|969d8cac-57dc-4e6...|0b8d0acd-7391-449...|bd1a59f8-8928-4e7...|        Brazil|-47.9247|-38.5258|       1|2023-05-14 09:20:00|\n",
      "|32bf0c7b-f21a-44b...|4df73c8b-4928-4cf...|cac63327-f1b8-4ba...|952079f9-5b2e-4fe...|       Bolivia|-63.2369|-17.4052|       3|2022-12-08 01:13:00|\n",
      "|d25130a0-8a5d-4d4...|ec0773cb-7e77-4bb...|a8ec5dc7-b977-432...|2c829d9d-fe05-41c...|       Vietnam|105.7858| 17.0296|       3|2023-10-29 14:26:00|\n",
      "|c1cc1ec2-c886-401...|077cc415-56b7-4e3...|5f6742cf-0cc3-499...|1e2d7203-4d5d-4bc...|        Canada|-102.234|  54.263|       3|2023-08-23 02:31:00|\n",
      "|bbf9ea4b-92da-4d5...|6073dae1-6fca-4a3...|9c9d7ede-4915-4fd...|5e91d1d7-7a6d-45c...|         China|106.3456| 35.3371|       1|2023-02-28 05:34:00|\n",
      "|b17e5626-7322-41f...|634264b8-26d7-4cd...|af1e4b22-9836-4ff...|9486001c-d371-445...|         China|106.3456| 35.3371|       2|2023-10-16 02:16:00|\n",
      "|85973b7a-ccbc-468...|91971f49-2484-444...|5d5aa38b-9e5e-412...|ae8ad1f2-6948-483...|        Brazil|-47.9247|-38.5258|       2|2023-04-18 14:43:00|\n",
      "|450dfea1-0901-403...|0075f59b-4ec7-49b...|39e8db1f-0258-459...|ad24d4a2-6d6a-4fd...|        Russia|100.6432| 60.0272|       1|2023-04-04 02:09:00|\n",
      "|403e65e0-fb25-4c9...|dab0b8a3-0fd7-499...|6188ae01-946b-40e...|45d226cb-97e2-468...|     Indonesia|112.6225| -7.7611|       2|2023-06-14 20:30:00|\n",
      "|2e97bcf6-f08d-438...|60e15872-eddb-410...|0b8d0acd-7391-449...|6d2e59c2-d835-4d0...|         China|106.3456| 35.3371|       3|2023-03-14 23:00:00|\n",
      "|97a271fd-5536-454...|b54cc38b-9916-4b9...|cac63327-f1b8-4ba...|3daa65e4-958b-4eb...|      Malaysia|103.3027|  4.6123|       3|2023-09-27 11:21:00|\n",
      "|1464ffdb-52a1-4ca...|bc1cb69e-5aa0-496...|a8ec5dc7-b977-432...|a862dc28-bd36-457...|        Serbia| 21.0284| 44.0241|       3|2023-08-03 23:13:00|\n",
      "|a0aef17f-da73-46f...|6b063767-94ad-4b5...|5f6742cf-0cc3-499...|03469e27-a2dd-436...|       Morocco| -7.5938|  33.685|       3|2023-01-28 15:36:00|\n",
      "|b3b399f8-ded7-4ea...|35d25e54-e08b-475...|9c9d7ede-4915-4fd...|cd4d63b1-f532-45d...|United Kingdom| -0.1257| 51.5086|       3|2023-01-26 21:32:00|\n",
      "+--------------------+--------------------+--------------------+--------------------+--------------+--------+--------+--------+-------------------+\n",
      "only showing top 20 rows\n",
      "\n"
     ]
    }
   ],
   "source": [
    "df_act.show()"
   ]
  },
  {
   "cell_type": "code",
   "execution_count": 212,
   "id": "cb97c99c-1448-4848-ae9b-ac89aebcce8a",
   "metadata": {},
   "outputs": [
    {
     "name": "stdout",
     "output_type": "stream",
     "text": [
      "+------------+----------+--------------+-------+----+--------+-------+--------+----------+\n",
      "|id_actividad|id_usuario|id_dispositivo|id_plan|pais|longitud|latitud|duracion|fecha_hora|\n",
      "+------------+----------+--------------+-------+----+--------+-------+--------+----------+\n",
      "|           0|         0|             0|      0|   0|     216|    216|      62|         0|\n",
      "+------------+----------+--------------+-------+----+--------+-------+--------+----------+\n",
      "\n"
     ]
    }
   ],
   "source": [
    "null_counts = df_act.select([sum(col(c).isNull().cast(\"int\")).alias(c) for c in df_act.columns])\n",
    "null_counts.show()"
   ]
  },
  {
   "cell_type": "markdown",
   "id": "6ed09964-7c18-4d9d-a9e0-f6add565c0ca",
   "metadata": {},
   "source": [
    "- En el caso de los datos de actividades se pueden apreciar que se tienen 216 filas donde en la columna \"latitud\" y \"longitud\" se tiene valores nulos. Dado que no son columnas que se considere relevantes para análisis posteriores se decide mantener las filas con estos valores."
   ]
  },
  {
   "cell_type": "code",
   "execution_count": 213,
   "id": "b2c571f3-07b2-4cd2-9e93-76908b2d51d1",
   "metadata": {},
   "outputs": [],
   "source": [
    "df_act.write.mode(\"overwrite\").parquet(\"/datalake/clean/actividades\")"
   ]
  },
  {
   "cell_type": "markdown",
   "id": "068590df-e8d2-4e1b-b770-ef4269850100",
   "metadata": {},
   "source": [
    "### Carga y limpieza de Planes de Entretenimiento"
   ]
  },
  {
   "cell_type": "code",
   "execution_count": 190,
   "id": "45ff092b-9028-4282-aca3-d04e4fede673",
   "metadata": {},
   "outputs": [],
   "source": [
    "df_plan = spark.read.csv('/datalake/raw/Plan_de_entrenamiento.csv', header=True, sep=',', quote='\"')"
   ]
  },
  {
   "cell_type": "code",
   "execution_count": 191,
   "id": "686aa1fd-c4ef-4b82-96e5-4a39224a311a",
   "metadata": {},
   "outputs": [],
   "source": [
    "df_plan = spark.read.option(\"header\", \"true\") \\\n",
    "               .option(\"quote\", \"\\\"\") \\\n",
    "               .option(\"escape\", \"\\\"\") \\\n",
    "               .option(\"multiline\", \"true\") \\\n",
    "               .csv('/datalake/raw/Plan_de_entrenamiento.csv')"
   ]
  },
  {
   "cell_type": "code",
   "execution_count": 192,
   "id": "5c69d420-c343-4fdc-9f0e-f7ce58f571b3",
   "metadata": {},
   "outputs": [
    {
     "name": "stdout",
     "output_type": "stream",
     "text": [
      "root\n",
      " |-- id_plan: string (nullable = true)\n",
      " |-- id_usuario: string (nullable = true)\n",
      " |-- tipo: string (nullable = true)\n",
      " |-- plan_duracion: string (nullable = true)\n",
      " |-- instructions: string (nullable = true)\n",
      " |-- objectivo: string (nullable = true)\n",
      "\n"
     ]
    }
   ],
   "source": [
    "df_plan.printSchema()"
   ]
  },
  {
   "cell_type": "code",
   "execution_count": 193,
   "id": "f91e0e63-a0a8-49aa-8e2b-26d9613d46e5",
   "metadata": {},
   "outputs": [],
   "source": [
    "df_plan = df_plan.withColumn('plan_duracion', col('plan_duracion').cast(FloatType()))"
   ]
  },
  {
   "cell_type": "code",
   "execution_count": 194,
   "id": "095257a4-641e-443a-8044-c7f43444cc91",
   "metadata": {},
   "outputs": [
    {
     "name": "stdout",
     "output_type": "stream",
     "text": [
      "root\n",
      " |-- id_plan: string (nullable = true)\n",
      " |-- id_usuario: string (nullable = true)\n",
      " |-- tipo: string (nullable = true)\n",
      " |-- plan_duracion: float (nullable = true)\n",
      " |-- instructions: string (nullable = true)\n",
      " |-- objectivo: string (nullable = true)\n",
      "\n"
     ]
    }
   ],
   "source": [
    "df_plan.printSchema()"
   ]
  },
  {
   "cell_type": "code",
   "execution_count": 195,
   "id": "c2c896ed-62c9-49c0-9ca8-fd2a175b007f",
   "metadata": {},
   "outputs": [
    {
     "name": "stdout",
     "output_type": "stream",
     "text": [
      "+--------------------+--------------------+----------------+-------------+--------------------+--------------------+\n",
      "|             id_plan|          id_usuario|            tipo|plan_duracion|        instructions|           objectivo|\n",
      "+--------------------+--------------------+----------------+-------------+--------------------+--------------------+\n",
      "|1a257404-2741-4d5...|9efa1289-5256-49c...|   media-maraton|         1.63|Lorem ipsum dolor...|Maecenas leo odio...|\n",
      "|296f1010-fd8b-4fe...|b4d30551-59cb-45b...|            hiit|         1.73|Nulla ut erat id ...|Duis bibendum. Mo...|\n",
      "|d3c2f38b-249f-40c...|effbcd55-e394-487...|condicionamiento|          1.3|Proin leo odio po...|Donec diam neque,...|\n",
      "|b206f2a3-5ddd-47a...|fc621f46-e0ef-4ad...|            otro|         1.25|Cum sociis natoqu...|Quisque id justo ...|\n",
      "|147cd3b7-c8c6-4b6...|5cc10861-3ddd-467...|            hiit|         1.67|Duis consequat du...|Maecenas leo odio...|\n",
      "|0c384ba2-f2c6-4ca...|1ee35bd7-2a17-4a8...|        triatlon|          1.0|Cras non velit ne...|Mauris enim leo, ...|\n",
      "|bd1a59f8-8928-4e7...|969d8cac-57dc-4e6...|            otro|         1.56|Mauris enim leo r...|Integer ac leo. P...|\n",
      "|952079f9-5b2e-4fe...|4df73c8b-4928-4cf...|            otro|         1.27|Duis bibendum fel...|Cum sociis natoqu...|\n",
      "|2c829d9d-fe05-41c...|ec0773cb-7e77-4bb...|   bajar de peso|         1.37|Curabitur in libe...|Praesent id massa...|\n",
      "|1e2d7203-4d5d-4bc...|077cc415-56b7-4e3...|   bajar de peso|         0.58|Fusce consequat. ...|Curabitur gravida...|\n",
      "|5e91d1d7-7a6d-45c...|6073dae1-6fca-4a3...|disminuir stress|          1.1|Maecenas ut massa...|Cum sociis natoqu...|\n",
      "|9486001c-d371-445...|634264b8-26d7-4cd...|   bajar de peso|         1.37|Mauris enim leo r...|Curabitur in libe...|\n",
      "|ae8ad1f2-6948-483...|91971f49-2484-444...|            otro|          1.4|Vestibulum ac est...|Sed sagittis. Nam...|\n",
      "|ad24d4a2-6d6a-4fd...|0075f59b-4ec7-49b...|   bajar de peso|         1.85|Vestibulum ac est...|Proin leo odio, p...|\n",
      "|45d226cb-97e2-468...|dab0b8a3-0fd7-499...|disminuir stress|         0.82|Maecenas tristiqu...|Nullam porttitor ...|\n",
      "|6d2e59c2-d835-4d0...|60e15872-eddb-410...|disminuir stress|         0.54|Proin interdum ma...|Morbi non lectus....|\n",
      "|3daa65e4-958b-4eb...|b54cc38b-9916-4b9...|   media-maraton|         1.74|Cras non velit ne...|Mauris enim leo, ...|\n",
      "|a862dc28-bd36-457...|bc1cb69e-5aa0-496...|condicionamiento|         0.51|Proin interdum ma...|In quis justo. Ma...|\n",
      "|03469e27-a2dd-436...|6b063767-94ad-4b5...|        triatlon|         1.98|Suspendisse poten...|Proin interdum ma...|\n",
      "|cd4d63b1-f532-45d...|35d25e54-e08b-475...|   bajar de peso|         1.12|Sed sagittis. Nam...|Vestibulum quam s...|\n",
      "+--------------------+--------------------+----------------+-------------+--------------------+--------------------+\n",
      "only showing top 20 rows\n",
      "\n"
     ]
    }
   ],
   "source": [
    "df_plan.show()"
   ]
  },
  {
   "cell_type": "code",
   "execution_count": 196,
   "id": "d8544fa5-9874-45d0-9e61-e9586776b4db",
   "metadata": {},
   "outputs": [
    {
     "name": "stdout",
     "output_type": "stream",
     "text": [
      "+-------+----------+----+-------------+------------+---------+\n",
      "|id_plan|id_usuario|tipo|plan_duracion|instructions|objectivo|\n",
      "+-------+----------+----+-------------+------------+---------+\n",
      "|      0|         0|   0|            0|           0|        0|\n",
      "+-------+----------+----+-------------+------------+---------+\n",
      "\n"
     ]
    }
   ],
   "source": [
    "null_counts = df_plan.select([sum(col(c).isNull().cast(\"int\")).alias(c) for c in df_plan.columns])\n",
    "null_counts.show()"
   ]
  },
  {
   "cell_type": "code",
   "execution_count": 197,
   "id": "fa421101-4c71-4972-b004-13d5cce1e5a2",
   "metadata": {},
   "outputs": [],
   "source": [
    "df_plan.write.mode(\"overwrite\").parquet(\"/datalake/clean/planes_de_entrenamiento\")"
   ]
  },
  {
   "cell_type": "markdown",
   "id": "2c3e7410-f7af-4484-a601-ddfd42b1153a",
   "metadata": {},
   "source": [
    "### Carga y limpieza de Actividades-Eventos"
   ]
  },
  {
   "cell_type": "code",
   "execution_count": 167,
   "id": "9f4d8bf5-f937-45a7-b4bc-4173cf2453ce",
   "metadata": {},
   "outputs": [],
   "source": [
    "df_event = spark.read.csv('/datalake/raw/Actividades-Eventos.csv', header=True, sep=',')"
   ]
  },
  {
   "cell_type": "code",
   "execution_count": 168,
   "id": "9a77c309-a6ab-4482-bdb5-e8c819f7c121",
   "metadata": {},
   "outputs": [
    {
     "name": "stdout",
     "output_type": "stream",
     "text": [
      "root\n",
      " |-- id_sensor: string (nullable = true)\n",
      " |-- pulse_rate: string (nullable = true)\n",
      " |-- id_actividad: string (nullable = true)\n",
      " |-- Longitud: string (nullable = true)\n",
      " |-- Latitud: string (nullable = true)\n",
      " |-- fecha_hora: string (nullable = true)\n",
      "\n"
     ]
    }
   ],
   "source": [
    "df_event.printSchema()"
   ]
  },
  {
   "cell_type": "code",
   "execution_count": 169,
   "id": "d7f1da41-742b-4ace-9646-f035ad751a96",
   "metadata": {},
   "outputs": [
    {
     "name": "stdout",
     "output_type": "stream",
     "text": [
      "+--------------------+----------+--------------------+--------+--------+----------------+\n",
      "|           id_sensor|pulse_rate|        id_actividad|Longitud| Latitud|      fecha_hora|\n",
      "+--------------------+----------+--------------------+--------+--------+----------------+\n",
      "|853dc9e4-6094-451...|       173|d2b9f5a4-e457-406...|-47.9247|-38.5258|07/08/2023 06:10|\n",
      "|278b2f82-087a-469...|       128|742ceebe-7cbd-42a...|100.6432| 60.0272|03/01/2023 02:16|\n",
      "|ea0b5fad-ff1d-491...|       148|f079c279-1249-40e...|112.6225| -7.7611|09/17/2023 07:09|\n",
      "|f6f4ad28-30e2-4c8...|       110|b8db20aa-9915-426...|100.6432| 60.0272|05/27/2023 10:45|\n",
      "|e63edcf3-eca8-412...|       170|59b61169-ecde-498...|-78.4163| 22.2258|08/24/2023 06:49|\n",
      "|bab58192-fc85-49c...|        42|8ea971d8-bc3e-44c...|106.3456| 35.3371|05/18/2023 00:35|\n",
      "|cafd29e6-3782-4fa...|       197|f0c4dc60-3cf3-4f9...|-47.9247|-38.5258|05/14/2023 09:20|\n",
      "|ce9ed08c-ccdc-48d...|       198|32bf0c7b-f21a-44b...|-63.2369|-17.4052|12/08/2022 01:13|\n",
      "|999d5a48-6543-4bd...|       166|d25130a0-8a5d-4d4...|105.7858| 17.0296|10/29/2023 14:26|\n",
      "|833ffb9f-2bcd-442...|       171|c1cc1ec2-c886-401...|-102.234|  54.263|08/23/2023 02:31|\n",
      "|33cd50a4-13de-4c9...|        93|bbf9ea4b-92da-4d5...|106.3456| 35.3371|02/28/2023 05:34|\n",
      "|0fea6730-98b8-4ae...|        64|b17e5626-7322-41f...|106.3456| 35.3371|10/16/2023 02:16|\n",
      "|8099ae7b-7b54-4e5...|        40|85973b7a-ccbc-468...|-47.9247|-38.5258|04/18/2023 14:43|\n",
      "|cacba4b7-580d-40b...|       109|450dfea1-0901-403...|100.6432| 60.0272|04/04/2023 02:09|\n",
      "|280b39f5-153d-4c9...|       166|403e65e0-fb25-4c9...|112.6225| -7.7611|06/14/2023 20:30|\n",
      "|9293d8f3-cf73-488...|       138|2e97bcf6-f08d-438...|106.3456| 35.3371|03/14/2023 23:00|\n",
      "|39bf036f-0d81-4ff...|       144|97a271fd-5536-454...|103.3027|  4.6123|09/27/2023 11:21|\n",
      "|f709fcfb-7a2b-43b...|       197|1464ffdb-52a1-4ca...| 21.0284| 44.0241|08/03/2023 23:13|\n",
      "|ab68d4ad-5c8a-456...|        62|a0aef17f-da73-46f...| -7.5938|  33.685|01/28/2023 15:36|\n",
      "|0ae925b0-bb7d-4c8...|       122|b3b399f8-ded7-4ea...| -0.1257| 51.5086|01/26/2023 21:32|\n",
      "+--------------------+----------+--------------------+--------+--------+----------------+\n",
      "only showing top 20 rows\n",
      "\n"
     ]
    }
   ],
   "source": [
    "df_event.show()"
   ]
  },
  {
   "cell_type": "code",
   "execution_count": 170,
   "id": "951cb1a2-aa44-443e-bdb0-be64ede8d7cf",
   "metadata": {},
   "outputs": [],
   "source": [
    "df_event = df_event.withColumnRenamed(\"longitud\", \"Longitud\")\n",
    "df_event = df_event.withColumnRenamed(\"latitud\", \"Latitud\")"
   ]
  },
  {
   "cell_type": "code",
   "execution_count": 171,
   "id": "a034ba89-f4ec-451c-aff7-d588a46a2dfd",
   "metadata": {},
   "outputs": [],
   "source": [
    "df_event = df_event.withColumn('fecha_hora', to_timestamp(df_event['fecha_hora'], \"MM/dd/yyyy HH:mm\"))\n",
    "df_event = df_event.withColumn('pulse_rate', col('pulse_rate').cast(IntegerType()))\n",
    "df_event = df_event.withColumn('latitud', col('latitud').cast(FloatType()))\n",
    "df_event = df_event.withColumn('longitud', col('longitud').cast(FloatType()))"
   ]
  },
  {
   "cell_type": "code",
   "execution_count": 172,
   "id": "785e5591-6837-4f52-abe9-45102c85291a",
   "metadata": {},
   "outputs": [
    {
     "name": "stdout",
     "output_type": "stream",
     "text": [
      "+--------------------+----------+--------------------+--------+--------+-------------------+\n",
      "|           id_sensor|pulse_rate|        id_actividad|longitud| latitud|         fecha_hora|\n",
      "+--------------------+----------+--------------------+--------+--------+-------------------+\n",
      "|853dc9e4-6094-451...|       173|d2b9f5a4-e457-406...|-47.9247|-38.5258|2023-07-08 06:10:00|\n",
      "|278b2f82-087a-469...|       128|742ceebe-7cbd-42a...|100.6432| 60.0272|2023-03-01 02:16:00|\n",
      "|ea0b5fad-ff1d-491...|       148|f079c279-1249-40e...|112.6225| -7.7611|2023-09-17 07:09:00|\n",
      "|f6f4ad28-30e2-4c8...|       110|b8db20aa-9915-426...|100.6432| 60.0272|2023-05-27 10:45:00|\n",
      "|e63edcf3-eca8-412...|       170|59b61169-ecde-498...|-78.4163| 22.2258|2023-08-24 06:49:00|\n",
      "|bab58192-fc85-49c...|        42|8ea971d8-bc3e-44c...|106.3456| 35.3371|2023-05-18 00:35:00|\n",
      "|cafd29e6-3782-4fa...|       197|f0c4dc60-3cf3-4f9...|-47.9247|-38.5258|2023-05-14 09:20:00|\n",
      "|ce9ed08c-ccdc-48d...|       198|32bf0c7b-f21a-44b...|-63.2369|-17.4052|2022-12-08 01:13:00|\n",
      "|999d5a48-6543-4bd...|       166|d25130a0-8a5d-4d4...|105.7858| 17.0296|2023-10-29 14:26:00|\n",
      "|833ffb9f-2bcd-442...|       171|c1cc1ec2-c886-401...|-102.234|  54.263|2023-08-23 02:31:00|\n",
      "|33cd50a4-13de-4c9...|        93|bbf9ea4b-92da-4d5...|106.3456| 35.3371|2023-02-28 05:34:00|\n",
      "|0fea6730-98b8-4ae...|        64|b17e5626-7322-41f...|106.3456| 35.3371|2023-10-16 02:16:00|\n",
      "|8099ae7b-7b54-4e5...|        40|85973b7a-ccbc-468...|-47.9247|-38.5258|2023-04-18 14:43:00|\n",
      "|cacba4b7-580d-40b...|       109|450dfea1-0901-403...|100.6432| 60.0272|2023-04-04 02:09:00|\n",
      "|280b39f5-153d-4c9...|       166|403e65e0-fb25-4c9...|112.6225| -7.7611|2023-06-14 20:30:00|\n",
      "|9293d8f3-cf73-488...|       138|2e97bcf6-f08d-438...|106.3456| 35.3371|2023-03-14 23:00:00|\n",
      "|39bf036f-0d81-4ff...|       144|97a271fd-5536-454...|103.3027|  4.6123|2023-09-27 11:21:00|\n",
      "|f709fcfb-7a2b-43b...|       197|1464ffdb-52a1-4ca...| 21.0284| 44.0241|2023-08-03 23:13:00|\n",
      "|ab68d4ad-5c8a-456...|        62|a0aef17f-da73-46f...| -7.5938|  33.685|2023-01-28 15:36:00|\n",
      "|0ae925b0-bb7d-4c8...|       122|b3b399f8-ded7-4ea...| -0.1257| 51.5086|2023-01-26 21:32:00|\n",
      "+--------------------+----------+--------------------+--------+--------+-------------------+\n",
      "only showing top 20 rows\n",
      "\n"
     ]
    }
   ],
   "source": [
    "df_event.show()"
   ]
  },
  {
   "cell_type": "code",
   "execution_count": 180,
   "id": "d2f177f5-76aa-4bda-86d7-8ed6793ebbd2",
   "metadata": {},
   "outputs": [
    {
     "name": "stdout",
     "output_type": "stream",
     "text": [
      "+---------+----------+------------+--------+-------+----------+\n",
      "|id_sensor|pulse_rate|id_actividad|longitud|latitud|fecha_hora|\n",
      "+---------+----------+------------+--------+-------+----------+\n",
      "|        0|         0|           0|     216|    216|         0|\n",
      "+---------+----------+------------+--------+-------+----------+\n",
      "\n"
     ]
    }
   ],
   "source": [
    "null_counts = df_event.select([sum(col(c).isNull().cast(\"int\")).alias(c) for c in df_event.columns])\n",
    "null_counts.show()"
   ]
  },
  {
   "cell_type": "markdown",
   "id": "61a03434-5d9f-43e8-801a-3852666aa3d7",
   "metadata": {},
   "source": [
    "- En el caso de los datos de actividades eventos se pueden apreciar que se tienen 216 filas donde en la columna \"latitud\" y \"longitud\" se tienen valores nulos. En este caso los valores de longitud y longitud son relevantes para análisis posteriores por lo que se decide eliminar las filas que tienen esta anomalia."
   ]
  },
  {
   "cell_type": "code",
   "execution_count": 185,
   "id": "49538b1d-1940-427c-988c-ec7b02f935e5",
   "metadata": {},
   "outputs": [],
   "source": [
    "df_event = df_event.dropna(subset=[\"longitud\"])"
   ]
  },
  {
   "cell_type": "code",
   "execution_count": 186,
   "id": "b34a91b7-0c60-48ef-b1fe-679c144493ad",
   "metadata": {},
   "outputs": [
    {
     "data": {
      "text/plain": [
       "784"
      ]
     },
     "execution_count": 186,
     "metadata": {},
     "output_type": "execute_result"
    }
   ],
   "source": [
    "df_event.count()"
   ]
  },
  {
   "cell_type": "code",
   "execution_count": 189,
   "id": "4b758352-47f1-44f3-9bab-6e129b34f24c",
   "metadata": {},
   "outputs": [
    {
     "name": "stderr",
     "output_type": "stream",
     "text": [
      "                                                                                \r"
     ]
    }
   ],
   "source": [
    "df_event.write.mode(\"overwrite\").parquet(\"/datalake/clean/actividades_eventos\")"
   ]
  },
  {
   "cell_type": "markdown",
   "id": "b86945dc-aec6-4ec4-82de-a24de196c2f7",
   "metadata": {},
   "source": [
    "### Carga y limpieza de Dispositivos"
   ]
  },
  {
   "cell_type": "code",
   "execution_count": 174,
   "id": "c2310f4c-6544-45c2-9890-63ef1f3b3a9d",
   "metadata": {},
   "outputs": [],
   "source": [
    "df_disp = spark.read.csv('/datalake/raw/Dispositivos.csv', header=True, sep=',')"
   ]
  },
  {
   "cell_type": "code",
   "execution_count": 175,
   "id": "74287861-5f52-42ee-9cda-29ebdf81d60b",
   "metadata": {},
   "outputs": [
    {
     "name": "stdout",
     "output_type": "stream",
     "text": [
      "root\n",
      " |-- id_dispositivo: string (nullable = true)\n",
      " |-- model: string (nullable = true)\n",
      " |-- brand: string (nullable = true)\n",
      " |-- operating_system: string (nullable = true)\n",
      "\n"
     ]
    }
   ],
   "source": [
    "df_disp.printSchema()"
   ]
  },
  {
   "cell_type": "code",
   "execution_count": 176,
   "id": "6954e18c-642c-43cc-99f3-1dbcebd7c5f2",
   "metadata": {},
   "outputs": [
    {
     "name": "stdout",
     "output_type": "stream",
     "text": [
      "+--------------------+----------------+-------+----------------+\n",
      "|      id_dispositivo|           model|  brand|operating_system|\n",
      "+--------------------+----------------+-------+----------------+\n",
      "|5f6742cf-0cc3-499...|   iPhone 12 Pro|  Apple|             iOS|\n",
      "|9c9d7ede-4915-4fd...|         Pixel 5| Google|         Android|\n",
      "|af1e4b22-9836-4ff...|    Xperia 1 III|   Sony|         Android|\n",
      "|5d5aa38b-9e5e-412...|     Find X3 Pro|   Oppo|         Android|\n",
      "|39e8db1f-0258-459...|          Velvet|     LG|         Android|\n",
      "|6188ae01-946b-40e...|         X60 Pro|   Vivo|         Android|\n",
      "|0b8d0acd-7391-449...|           9 Pro|OnePlus|         Android|\n",
      "|cac63327-f1b8-4ba...|Galaxy S21 Ultra|Samsung|         Android|\n",
      "|a8ec5dc7-b977-432...|           Mi 11| Xiaomi|         Android|\n",
      "+--------------------+----------------+-------+----------------+\n",
      "\n"
     ]
    }
   ],
   "source": [
    "df_disp.show()"
   ]
  },
  {
   "cell_type": "code",
   "execution_count": 177,
   "id": "caea9720-3a4e-4cba-9a5f-6ec756e5290b",
   "metadata": {},
   "outputs": [],
   "source": [
    "df_disp.write.mode(\"overwrite\").parquet(\"/datalake/clean/dispositivos\")"
   ]
  },
  {
   "cell_type": "code",
   "execution_count": 178,
   "id": "fbae20b2-9cd8-4c9f-b1f8-50eaa5c56471",
   "metadata": {},
   "outputs": [],
   "source": [
    "null_counts = df_disp.select([sum(col(c).isNull().cast(\"int\")).alias(c) for c in df_disp.columns])\n"
   ]
  },
  {
   "cell_type": "code",
   "execution_count": 179,
   "id": "43dbc32c-a0e9-4ab8-9041-cec6807b5f18",
   "metadata": {},
   "outputs": [
    {
     "name": "stdout",
     "output_type": "stream",
     "text": [
      "+--------------+-----+-----+----------------+\n",
      "|id_dispositivo|model|brand|operating_system|\n",
      "+--------------+-----+-----+----------------+\n",
      "|             0|    0|    0|               0|\n",
      "+--------------+-----+-----+----------------+\n",
      "\n"
     ]
    }
   ],
   "source": [
    "null_counts.show()"
   ]
  }
 ],
 "metadata": {
  "kernelspec": {
   "display_name": "Python 3 (ipykernel)",
   "language": "python",
   "name": "python3"
  },
  "language_info": {
   "codemirror_mode": {
    "name": "ipython",
    "version": 3
   },
   "file_extension": ".py",
   "mimetype": "text/x-python",
   "name": "python",
   "nbconvert_exporter": "python",
   "pygments_lexer": "ipython3",
   "version": "3.8.8"
  }
 },
 "nbformat": 4,
 "nbformat_minor": 5
}
