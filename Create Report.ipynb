{
 "cells": [
  {
   "cell_type": "code",
   "execution_count": 1,
   "id": "cf980c27-d411-4ab7-8140-30ec42b7133c",
   "metadata": {},
   "outputs": [
    {
     "name": "stderr",
     "output_type": "stream",
     "text": [
      "Setting default log level to \"WARN\".\n",
      "To adjust logging level use sc.setLogLevel(newLevel). For SparkR, use setLogLevel(newLevel).\n"
     ]
    },
    {
     "name": "stdout",
     "output_type": "stream",
     "text": [
      "2023-11-19T19:04:13,238 WARN [Thread-4] org.apache.hadoop.util.NativeCodeLoader - Unable to load native-hadoop library for your platform... using builtin-java classes where applicable\n",
      "2023-11-19T19:04:13,972 WARN [Thread-4] org.apache.spark.util.Utils - Service 'SparkUI' could not bind on port 4040. Attempting port 4041.\n",
      "2023-11-19T19:04:13,972 WARN [Thread-4] org.apache.spark.util.Utils - Service 'SparkUI' could not bind on port 4041. Attempting port 4042.\n"
     ]
    }
   ],
   "source": [
    "from pyspark.sql import SparkSession\n",
    "\n",
    "from pyspark.sql.functions import *\n",
    "from pyspark.sql.types import *\n",
    "\n",
    "spark = SparkSession \\\n",
    "    .builder \\\n",
    "    .appName(\"crear_reports\") \\\n",
    "    .enableHiveSupport() \\\n",
    "    .getOrCreate()"
   ]
  },
  {
   "cell_type": "code",
   "execution_count": 10,
   "id": "5a33fab2-0831-4319-9746-326ba4df1f44",
   "metadata": {},
   "outputs": [],
   "source": [
    "df_counters = spark.sql(\"SELECT count(distinct act_id_usuario) as cant_usuario, count(distinct usu_pais) as cant_pais FROM datalake.bigtable_data_fitness\")"
   ]
  },
  {
   "cell_type": "code",
   "execution_count": 11,
   "id": "d8f6964c-7993-40ca-a956-d4dc96ac9988",
   "metadata": {},
   "outputs": [],
   "source": [
    "df_counters.write.mode('overwrite').saveAsTable(\"datalake.report_counters\")"
   ]
  },
  {
   "cell_type": "code",
   "execution_count": 12,
   "id": "89ecfac9-2538-487a-a126-4fc483bf6e02",
   "metadata": {},
   "outputs": [
    {
     "name": "stdout",
     "output_type": "stream",
     "text": [
      "+------------+---------+\n",
      "|cant_usuario|cant_pais|\n",
      "+------------+---------+\n",
      "|         651|       39|\n",
      "+------------+---------+\n",
      "\n"
     ]
    }
   ],
   "source": [
    "spark.sql(\"select * from datalake.report_counters\").show()"
   ]
  }
 ],
 "metadata": {
  "kernelspec": {
   "display_name": "Python 3 (ipykernel)",
   "language": "python",
   "name": "python3"
  },
  "language_info": {
   "codemirror_mode": {
    "name": "ipython",
    "version": 3
   },
   "file_extension": ".py",
   "mimetype": "text/x-python",
   "name": "python",
   "nbconvert_exporter": "python",
   "pygments_lexer": "ipython3",
   "version": "3.8.8"
  }
 },
 "nbformat": 4,
 "nbformat_minor": 5
}
