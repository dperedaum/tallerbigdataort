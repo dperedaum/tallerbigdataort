{
 "cells": [
  {
   "cell_type": "code",
   "execution_count": 1,
   "id": "e7c16524-ad60-4539-bc2a-a88dc7077389",
   "metadata": {},
   "outputs": [
    {
     "name": "stderr",
     "output_type": "stream",
     "text": [
      "Setting default log level to \"WARN\".\n",
      "To adjust logging level use sc.setLogLevel(newLevel). For SparkR, use setLogLevel(newLevel).\n"
     ]
    },
    {
     "name": "stdout",
     "output_type": "stream",
     "text": [
      "2023-11-19T00:29:17,429 WARN [Thread-4] org.apache.hadoop.util.NativeCodeLoader - Unable to load native-hadoop library for your platform... using builtin-java classes where applicable\n",
      "2023-11-19T00:29:18,741 WARN [Thread-4] org.apache.spark.util.Utils - Service 'SparkUI' could not bind on port 4040. Attempting port 4041.\n",
      "2023-11-19T00:29:18,743 WARN [Thread-4] org.apache.spark.util.Utils - Service 'SparkUI' could not bind on port 4041. Attempting port 4042.\n",
      "2023-11-19T00:29:18,743 WARN [Thread-4] org.apache.spark.util.Utils - Service 'SparkUI' could not bind on port 4042. Attempting port 4043.\n"
     ]
    }
   ],
   "source": [
    "from pyspark.sql import SparkSession\n",
    "\n",
    "from pyspark.sql.functions import *\n",
    "from pyspark.sql.types import *\n",
    "\n",
    "spark = SparkSession \\\n",
    "    .builder \\\n",
    "    .appName(\"crear_one_big_table\") \\\n",
    "    .enableHiveSupport() \\\n",
    "    .getOrCreate()"
   ]
  },
  {
   "cell_type": "code",
   "execution_count": null,
   "id": "3407248f-9d87-46f0-b0d5-59b960760b32",
   "metadata": {},
   "outputs": [],
   "source": []
  },
  {
   "cell_type": "code",
   "execution_count": 6,
   "id": "c4a66302-a527-45fa-96d1-044aed24aa23",
   "metadata": {},
   "outputs": [
    {
     "name": "stdout",
     "output_type": "stream",
     "text": [
      "+--------+\n",
      "|count(1)|\n",
      "+--------+\n",
      "|    3990|\n",
      "+--------+\n",
      "\n"
     ]
    }
   ],
   "source": [
    "spark.sql(\"\"\"\n",
    "    select count(1)\n",
    "    from \n",
    "        datalake.actividades_eventos ae \n",
    "            INNER JOIN datalake.actividades a ON (ae.id_actividad = a.id_actividad)\n",
    "            INNER JOIN datalake.usuarios u ON (a.id_usuario = u.id_usuario) \n",
    "       --     INNER JOIN datalake.dispositivos d ON (a.id_dispositivo = d.id_dispositivo)\n",
    "       --     INNER JOIN datalake.planes_de_entrenamiento pe ON (a.id_plan = pe.id_plan)\n",
    "\"\"\").show()"
   ]
  },
  {
   "cell_type": "code",
   "execution_count": 9,
   "id": "a448048c-bebc-4ebf-b950-2e73dfb641c6",
   "metadata": {},
   "outputs": [
    {
     "name": "stdout",
     "output_type": "stream",
     "text": [
      "+--------+--------------------------+\n",
      "|count(1)|count(DISTINCT id_usuario)|\n",
      "+--------+--------------------------+\n",
      "|    1000|                       197|\n",
      "+--------+--------------------------+\n",
      "\n"
     ]
    }
   ],
   "source": [
    "spark.sql(\"select count(*), count(distinct id_usuario) from datalake.usuarios\").show()"
   ]
  },
  {
   "cell_type": "code",
   "execution_count": 10,
   "id": "abbf6704-e15a-4f47-b088-85fac60bbae2",
   "metadata": {},
   "outputs": [
    {
     "name": "stdout",
     "output_type": "stream",
     "text": [
      "+--------------------+--------+-----------+--------------------+----------+--------------+-------------+------------+----------+-----------+-----------+\n",
      "|          id_usuario|  nombre|   apellido|               email|      sexo|          pais|    actividad|subscripcion|fecha_subs|recha_renov|ultimo_pago|\n",
      "+--------------------+--------+-----------+--------------------+----------+--------------+-------------+------------+----------+-----------+-----------+\n",
      "|0075f59b-4ec7-49b...|   Becca|    Schwand|bschwandm@deviant...|  Bigender|        Russia|personalizado|       anual|2023-01-27|       null| 2022-12-15|\n",
      "|0075f59b-4ec7-49b...|   Prudi|    Vanyard|pvanyardbc@woothe...|Polygender|   North Korea|     triatlon|       anual|2023-05-03|       null| 2023-03-01|\n",
      "|0075f59b-4ec7-49b...|   Traci|   Cansdill|tcansdillm4@quant...|    Female|      Colombia|     triatlon|      basica|2022-12-24|       null| 2023-03-27|\n",
      "|0075f59b-4ec7-49b...|  Tallie|  Ellingham|tellingham56@kick...|    Female|        Poland|         null|       anual|2023-08-06|       null| 2023-07-25|\n",
      "|0075f59b-4ec7-49b...|  Elmore|  MacAndrew|emacandrewg7@ramb...|      Male|         China|       futbol|       anual|2023-04-03|       null| 2023-06-27|\n",
      "|0075f59b-4ec7-49b...|   Nolly|  Dumbellow|ndumbellowrp@slid...|      Male|     Guatemala|         null|      basica|2023-04-06|       null| 2023-05-24|\n",
      "|00a7be1c-b623-453...|  Hollis|   Crucitti|hcrucitti6k@earth...|      Male|      Colombia|     triatlon|      basica|2023-05-13|       null| 2023-07-15|\n",
      "|00a7be1c-b623-453...|   Noemi|        Ogg|nogghn@huffington...|    Female|     Lithuania|         yoga|      basica|2023-05-10|       null| 2023-08-26|\n",
      "|00a7be1c-b623-453...|     Dew|   Sandells| dsandellsbe@unc.edu|      Male|Czech Republic|personalizado|       anual|2023-04-13|       null| 2022-11-24|\n",
      "|00a7be1c-b623-453...| Brander| Kaesmakers|bkaesmakers4@whit...|      Male|         China|     natacion|       anual|2022-12-27|       null| 2023-06-08|\n",
      "|00a7be1c-b623-453...|  Andeee|Flancinbaum|aflancinbaummj@go...|    Female|         China|      basquet|       anual|2023-02-28|       null| 2023-05-16|\n",
      "|0406c80b-6b9b-49c...|  Brewer|        Nix|    bnixih@bbc.co.uk|      null|     Argentina|      basquet|       anual|2023-03-24|       null| 2023-03-30|\n",
      "|0406c80b-6b9b-49c...|  Elnore|    Naisbit|enaisbit11@google.nl|    Female|       Croatia|      basquet|       anual|2023-01-02|       null| 2023-06-05|\n",
      "|0406c80b-6b9b-49c...|   Cyrus|      Barde|cbarde75@statcoun...|   Agender|        Russia|     ciclismo|      basica|2022-11-26|       null| 2022-12-16|\n",
      "|0406c80b-6b9b-49c...| Kearney|   Bonafant|kbonafantc2@googl...|      Male|    Costa Rica|      basquet|      basica|2023-03-04|       null| 2023-01-02|\n",
      "|0406c80b-6b9b-49c...|Blakeley|     Benian|bbeniannb@jiathis...|      null| United States|     natacion|      basica|2023-01-16|       null| 2023-08-22|\n",
      "|04536c87-99be-43a...|  Danice|   Laurisch|dlaurisch36@ifeng...|    Female|     Indonesia|     ciclismo|      basica|2023-02-16|       null| 2023-09-19|\n",
      "|04536c87-99be-43a...|Grantley|   Tomasian|gtomasianeh@jiath...|      Male|         China|       futbol|      basica|2023-03-19|       null| 2023-09-29|\n",
      "|04536c87-99be-43a...|    Bran|    Jackett|bjackettoq@google.ru|      Male|        Russia|         yoga|       anual|2022-12-18|       null| 2023-10-31|\n",
      "|04536c87-99be-43a...| Deeanne|      Brome|  dbrome8f@sogou.com|    Female|   Philippines|         yoga|      basica|2023-08-11|       null| 2023-08-06|\n",
      "+--------------------+--------+-----------+--------------------+----------+--------------+-------------+------------+----------+-----------+-----------+\n",
      "only showing top 20 rows\n",
      "\n"
     ]
    }
   ],
   "source": [
    "spark.sql(\"select * from datalake.usuarios order by id_usuario\").show()"
   ]
  }
 ],
 "metadata": {
  "kernelspec": {
   "display_name": "Python 3 (ipykernel)",
   "language": "python",
   "name": "python3"
  },
  "language_info": {
   "codemirror_mode": {
    "name": "ipython",
    "version": 3
   },
   "file_extension": ".py",
   "mimetype": "text/x-python",
   "name": "python",
   "nbconvert_exporter": "python",
   "pygments_lexer": "ipython3",
   "version": "3.8.8"
  }
 },
 "nbformat": 4,
 "nbformat_minor": 5
}
