{
 "cells": [
  {
   "cell_type": "markdown",
   "id": "ac60f34e-02fb-4637-a9f5-16e5e2a7f150",
   "metadata": {},
   "source": [
    "# Generación de tablas Hive"
   ]
  },
  {
   "cell_type": "markdown",
   "id": "051c2ad4-3b67-4127-9522-4a678e9bbf7a",
   "metadata": {},
   "source": [
    "Esta notebook tiene como objetivo crear las tablas Hive para cada una de las estructuras parquet en la zona clean. Se van a crear external tables de Hive."
   ]
  },
  {
   "cell_type": "code",
   "execution_count": 1,
   "id": "21352d0f-e692-4083-ad42-87ce65912b12",
   "metadata": {},
   "outputs": [
    {
     "name": "stderr",
     "output_type": "stream",
     "text": [
      "Setting default log level to \"WARN\".\n",
      "To adjust logging level use sc.setLogLevel(newLevel). For SparkR, use setLogLevel(newLevel).\n"
     ]
    },
    {
     "name": "stdout",
     "output_type": "stream",
     "text": [
      "2023-11-19T15:07:23,827 WARN [Thread-4] org.apache.hadoop.util.NativeCodeLoader - Unable to load native-hadoop library for your platform... using builtin-java classes where applicable\n",
      "2023-11-19T15:07:25,257 WARN [Thread-4] org.apache.spark.util.Utils - Service 'SparkUI' could not bind on port 4040. Attempting port 4041.\n"
     ]
    }
   ],
   "source": [
    "from pyspark.sql import SparkSession\n",
    "\n",
    "from pyspark.sql.functions import *\n",
    "from pyspark.sql.types import *\n",
    "\n",
    "spark = SparkSession \\\n",
    "    .builder \\\n",
    "    .appName(\"crear_tablas_hive\") \\\n",
    "    .enableHiveSupport() \\\n",
    "    .getOrCreate()"
   ]
  },
  {
   "cell_type": "markdown",
   "id": "412ee805-ad54-41a2-ba34-232f2b695ee8",
   "metadata": {},
   "source": [
    "### Creación de base de datos"
   ]
  },
  {
   "cell_type": "code",
   "execution_count": null,
   "id": "ca96ac8e-a39e-420b-8457-a3324d6f41ed",
   "metadata": {},
   "outputs": [],
   "source": [
    "# Crear una nueva base de datos en Hive\n",
    "spark.sql(\"CREATE DATABASE if not exists datalake\")\n",
    "\n",
    "# Listar bases de datos para verificar\n",
    "spark.sql(\"SHOW DATABASES\").show()"
   ]
  },
  {
   "cell_type": "code",
   "execution_count": null,
   "id": "1a592790-cced-4862-9dc6-d96eca87b58a",
   "metadata": {},
   "outputs": [],
   "source": [
    "spark.sql(\"use datalake\")"
   ]
  },
  {
   "cell_type": "markdown",
   "id": "dcb11027-3c96-41e4-8268-1b9309000004",
   "metadata": {},
   "source": [
    "### Creación de tabla de usuarios"
   ]
  },
  {
   "cell_type": "code",
   "execution_count": 6,
   "id": "ef92856f-6246-4816-8e9f-95df83c675cd",
   "metadata": {},
   "outputs": [
    {
     "name": "stdout",
     "output_type": "stream",
     "text": [
      "2023-11-19T13:48:52,204 INFO [Thread-4] org.apache.hadoop.hive.ql.security.authorization.plugin.sqlstd.SQLStdHiveAccessController - Created SQLStdHiveAccessController for session context : HiveAuthzSessionContext [sessionString=4fcd67ca-c0ab-435e-ba3a-5c6f3b4c2192, clientType=HIVECLI]\n",
      "2023-11-19T13:48:52,207 WARN [Thread-4] org.apache.hadoop.hive.ql.session.SessionState - METASTORE_FILTER_HOOK will be ignored, since hive.security.authorization.manager is set to instance of HiveAuthorizerFactory.\n",
      "2023-11-19T13:48:52,207 INFO [Thread-4] hive.metastore - Mestastore configuration hive.metastore.filter.hook changed from org.apache.hadoop.hive.metastore.DefaultMetaStoreFilterHookImpl to org.apache.hadoop.hive.ql.security.authorization.plugin.AuthorizationMetaStoreFilterHook\n",
      "2023-11-19T13:48:52,212 INFO [Thread-4] hive.metastore - Closed a connection to metastore, current connections: 0\n",
      "2023-11-19T13:48:52,214 INFO [Thread-4] hive.metastore - Trying to connect to metastore with URI thrift://localhost:9083\n",
      "2023-11-19T13:48:52,215 INFO [Thread-4] hive.metastore - Opened a connection to metastore, current connections: 1\n",
      "2023-11-19T13:48:52,244 INFO [Thread-4] hive.metastore - Connected to metastore.\n",
      "2023-11-19T13:48:52,376 INFO [Thread-4] hive.metastore - Trying to connect to metastore with URI thrift://localhost:9083\n",
      "2023-11-19T13:48:52,376 INFO [Thread-4] hive.metastore - Opened a connection to metastore, current connections: 2\n",
      "2023-11-19T13:48:52,390 INFO [Thread-4] hive.metastore - Connected to metastore.\n"
     ]
    },
    {
     "data": {
      "text/plain": [
       "DataFrame[]"
      ]
     },
     "execution_count": 6,
     "metadata": {},
     "output_type": "execute_result"
    }
   ],
   "source": [
    "spark.sql(\"\"\"\n",
    "CREATE EXTERNAL TABLE usuarios (\n",
    "    id_usuario STRING,\n",
    "    nombre STRING,\n",
    "    apellido STRING,\n",
    "    email STRING,\n",
    "    sexo  STRING,\n",
    "    pais STRING,\n",
    "    actividad STRING,\n",
    "    subscripcion STRING,\n",
    "    fecha_subs DATE,\n",
    "    fecha_renov DATE, \n",
    "    ultimo_pago DATE\n",
    ")\n",
    "STORED AS PARQUET\n",
    "LOCATION '/datalake/clean/usuarios';\n",
    "\"\"\")"
   ]
  },
  {
   "cell_type": "markdown",
   "id": "f820299c-1619-40ae-81d3-912f9dedd6d4",
   "metadata": {},
   "source": [
    "### Creación de tabla de actividades"
   ]
  },
  {
   "cell_type": "code",
   "execution_count": 3,
   "id": "3786bb50-079a-4cc9-ac47-2742caa3c9c5",
   "metadata": {},
   "outputs": [
    {
     "name": "stderr",
     "output_type": "stream",
     "text": [
      "                                                                                \r"
     ]
    }
   ],
   "source": [
    "df_actividades = spark.read.parquet(\"/datalake/clean/actividades\")"
   ]
  },
  {
   "cell_type": "code",
   "execution_count": 4,
   "id": "a7514eb9-de75-4865-9ac8-55b0919f20e0",
   "metadata": {},
   "outputs": [
    {
     "name": "stdout",
     "output_type": "stream",
     "text": [
      "root\n",
      " |-- id_actividad: string (nullable = true)\n",
      " |-- id_usuario: string (nullable = true)\n",
      " |-- id_dispositivo: string (nullable = true)\n",
      " |-- id_plan: string (nullable = true)\n",
      " |-- tipo_actividad: string (nullable = true)\n",
      " |-- pais: string (nullable = true)\n",
      " |-- longitud: float (nullable = true)\n",
      " |-- latitud: float (nullable = true)\n",
      " |-- duracion: integer (nullable = true)\n",
      " |-- fecha_hora: timestamp (nullable = true)\n",
      "\n"
     ]
    }
   ],
   "source": [
    "df_actividades.printSchema()"
   ]
  },
  {
   "cell_type": "code",
   "execution_count": 6,
   "id": "f2408727-6a47-4d4c-bcfc-0a52be4aa282",
   "metadata": {},
   "outputs": [
    {
     "name": "stdout",
     "output_type": "stream",
     "text": [
      "2023-11-19T15:08:12,246 INFO [Thread-4] org.apache.hadoop.hive.ql.security.authorization.plugin.sqlstd.SQLStdHiveAccessController - Created SQLStdHiveAccessController for session context : HiveAuthzSessionContext [sessionString=2930b55b-4b2e-44da-8728-b7ada1ce8a93, clientType=HIVECLI]\n",
      "2023-11-19T15:08:12,249 WARN [Thread-4] org.apache.hadoop.hive.ql.session.SessionState - METASTORE_FILTER_HOOK will be ignored, since hive.security.authorization.manager is set to instance of HiveAuthorizerFactory.\n",
      "2023-11-19T15:08:12,249 INFO [Thread-4] hive.metastore - Mestastore configuration hive.metastore.filter.hook changed from org.apache.hadoop.hive.metastore.DefaultMetaStoreFilterHookImpl to org.apache.hadoop.hive.ql.security.authorization.plugin.AuthorizationMetaStoreFilterHook\n",
      "2023-11-19T15:08:12,256 INFO [Thread-4] hive.metastore - Closed a connection to metastore, current connections: 0\n",
      "2023-11-19T15:08:12,258 INFO [Thread-4] hive.metastore - Trying to connect to metastore with URI thrift://localhost:9083\n",
      "2023-11-19T15:08:12,259 INFO [Thread-4] hive.metastore - Opened a connection to metastore, current connections: 1\n",
      "2023-11-19T15:08:12,269 INFO [Thread-4] hive.metastore - Connected to metastore.\n",
      "2023-11-19T15:08:12,420 INFO [Thread-4] hive.metastore - Trying to connect to metastore with URI thrift://localhost:9083\n",
      "2023-11-19T15:08:12,420 INFO [Thread-4] hive.metastore - Opened a connection to metastore, current connections: 2\n",
      "2023-11-19T15:08:12,423 INFO [Thread-4] hive.metastore - Connected to metastore.\n"
     ]
    },
    {
     "data": {
      "text/plain": [
       "DataFrame[]"
      ]
     },
     "execution_count": 6,
     "metadata": {},
     "output_type": "execute_result"
    }
   ],
   "source": [
    "spark.sql(\"\"\"\n",
    "CREATE EXTERNAL TABLE actividades (\n",
    "    id_actividad STRING,\n",
    "    id_usuario STRING,\n",
    "    id_dispositivo STRING,\n",
    "    id_plan STRING,\n",
    "    tipo_actividad STRING,\n",
    "    pais STRING,\n",
    "    longitud FLOAT,\n",
    "    latitud FLOAT,\n",
    "    duracion INT,\n",
    "    fecha_hora TIMESTAMP\n",
    ")\n",
    "STORED AS PARQUET\n",
    "LOCATION '/datalake/clean/actividades';\n",
    "\"\"\")"
   ]
  },
  {
   "cell_type": "code",
   "execution_count": 7,
   "id": "0a2845b6-de0f-499d-958a-7316750ddb3a",
   "metadata": {},
   "outputs": [
    {
     "name": "stderr",
     "output_type": "stream",
     "text": [
      "                                                                                \r"
     ]
    },
    {
     "name": "stdout",
     "output_type": "stream",
     "text": [
      "+--------------------+--------------------+--------------------+--------------------+--------------+--------------+--------+--------+--------+-------------------+\n",
      "|        id_actividad|          id_usuario|      id_dispositivo|             id_plan|tipo_actividad|          pais|longitud| latitud|duracion|         fecha_hora|\n",
      "+--------------------+--------------------+--------------------+--------------------+--------------+--------------+--------+--------+--------+-------------------+\n",
      "|d2b9f5a4-e457-406...|62ae8127-7584-4fe...|5f6742cf-0cc3-499...|1a257404-2741-4d5...|      gimnasia|        Brazil|-47.9247|-38.5258|       1|2023-07-08 06:10:00|\n",
      "|742ceebe-7cbd-42a...|bf91106f-2604-41a...|9c9d7ede-4915-4fd...|296f1010-fd8b-4fe...|      triatlon|        Russia|100.6432| 60.0272|       2|2023-03-01 02:16:00|\n",
      "|f079c279-1249-40e...|5c8d1f57-d9d6-4e0...|af1e4b22-9836-4ff...|d3c2f38b-249f-40c...|         rugby|     Indonesia|112.6225| -7.7611|       3|2023-09-17 07:09:00|\n",
      "|b8db20aa-9915-426...|f8c1ed92-4786-4f9...|5d5aa38b-9e5e-412...|b206f2a3-5ddd-47a...|  pelota vasca|        Russia|100.6432| 60.0272|       2|2023-05-27 10:45:00|\n",
      "|59b61169-ecde-498...|40613c17-e5e7-4d1...|39e8db1f-0258-459...|147cd3b7-c8c6-4b6...|      natacion|          Cuba|-78.4163| 22.2258|       1|2023-08-24 06:49:00|\n",
      "|8ea971d8-bc3e-44c...|88d695a1-1c4a-48e...|6188ae01-946b-40e...|0c384ba2-f2c6-4ca...|          golf|         China|106.3456| 35.3371|       1|2023-05-18 00:35:00|\n",
      "|f0c4dc60-3cf3-4f9...|da8f364f-cd65-474...|0b8d0acd-7391-449...|bd1a59f8-8928-4e7...|        futbol|        Brazil|-47.9247|-38.5258|       1|2023-05-14 09:20:00|\n",
      "|32bf0c7b-f21a-44b...|9f6a1ff5-24ba-478...|cac63327-f1b8-4ba...|952079f9-5b2e-4fe...|        cardio|       Bolivia|-63.2369|-17.4052|       3|2022-12-08 01:13:00|\n",
      "|d25130a0-8a5d-4d4...|217c6845-7c0d-4bf...|a8ec5dc7-b977-432...|2c829d9d-fe05-41c...|          golf|       Vietnam|105.7858| 17.0296|       3|2023-10-29 14:26:00|\n",
      "|c1cc1ec2-c886-401...|a533b8dd-d69d-480...|5f6742cf-0cc3-499...|1e2d7203-4d5d-4bc...|         rugby|        Canada|-102.234|  54.263|       3|2023-08-23 02:31:00|\n",
      "|bbf9ea4b-92da-4d5...|3fa6fb41-0984-485...|9c9d7ede-4915-4fd...|5e91d1d7-7a6d-45c...|      triatlon|         China|106.3456| 35.3371|       1|2023-02-28 05:34:00|\n",
      "|b17e5626-7322-41f...|09811ba4-6c48-4da...|af1e4b22-9836-4ff...|9486001c-d371-445...|         rugby|         China|106.3456| 35.3371|       2|2023-10-16 02:16:00|\n",
      "|85973b7a-ccbc-468...|2c5556f3-2ea1-44b...|5d5aa38b-9e5e-412...|ae8ad1f2-6948-483...|      natacion|        Brazil|-47.9247|-38.5258|       2|2023-04-18 14:43:00|\n",
      "|450dfea1-0901-403...|47a17097-468a-476...|39e8db1f-0258-459...|ad24d4a2-6d6a-4fd...|      ciclismo|        Russia|100.6432| 60.0272|       1|2023-04-04 02:09:00|\n",
      "|403e65e0-fb25-4c9...|b16efe3f-0350-43c...|6188ae01-946b-40e...|45d226cb-97e2-468...|         rugby|     Indonesia|112.6225| -7.7611|       2|2023-06-14 20:30:00|\n",
      "|2e97bcf6-f08d-438...|e47d2be1-c11a-496...|0b8d0acd-7391-449...|6d2e59c2-d835-4d0...|     atletismo|         China|106.3456| 35.3371|       3|2023-03-14 23:00:00|\n",
      "|97a271fd-5536-454...|baf9dcf3-22ef-475...|cac63327-f1b8-4ba...|3daa65e4-958b-4eb...|        futbol|      Malaysia|103.3027|  4.6123|       3|2023-09-27 11:21:00|\n",
      "|1464ffdb-52a1-4ca...|449c2bb4-4aa9-42c...|a8ec5dc7-b977-432...|a862dc28-bd36-457...|      ciclismo|        Serbia| 21.0284| 44.0241|       3|2023-08-03 23:13:00|\n",
      "|a0aef17f-da73-46f...|9c1fc515-099c-4c8...|5f6742cf-0cc3-499...|03469e27-a2dd-436...|         baile|       Morocco| -7.5938|  33.685|       3|2023-01-28 15:36:00|\n",
      "|b3b399f8-ded7-4ea...|494a3c85-d471-434...|9c9d7ede-4915-4fd...|cd4d63b1-f532-45d...|         boxeo|United Kingdom| -0.1257| 51.5086|       3|2023-01-26 21:32:00|\n",
      "+--------------------+--------------------+--------------------+--------------------+--------------+--------------+--------+--------+--------+-------------------+\n",
      "only showing top 20 rows\n",
      "\n",
      "2023-11-19T15:15:53,949 WARN [netty-rpc-env-timeout] org.apache.spark.rpc.netty.NettyRpcEnv - Ignored failure: java.util.concurrent.TimeoutException: Cannot receive any reply from taller-bigdata-vm.internal.cloudapp.net:36637 in 10000 milliseconds\n"
     ]
    }
   ],
   "source": [
    "spark.sql(\"select * from actividades\").show()"
   ]
  },
  {
   "cell_type": "markdown",
   "id": "89058ad7-eeb3-479e-9954-28f4c62bff07",
   "metadata": {},
   "source": [
    "### Creación de tabla actividades_eventos"
   ]
  },
  {
   "cell_type": "code",
   "execution_count": 16,
   "id": "57c40ce2-5c3b-4eae-861d-09fa5bfe7942",
   "metadata": {},
   "outputs": [],
   "source": [
    "df_actividades_eventos = spark.read.parquet(\"/datalake/clean/actividades_eventos\")"
   ]
  },
  {
   "cell_type": "code",
   "execution_count": 17,
   "id": "ac291087-693d-4db7-b4a3-7ae7fb31d8fa",
   "metadata": {},
   "outputs": [
    {
     "name": "stdout",
     "output_type": "stream",
     "text": [
      "root\n",
      " |-- id_sensor: string (nullable = true)\n",
      " |-- pulse_rate: integer (nullable = true)\n",
      " |-- id_actividad: string (nullable = true)\n",
      " |-- longitud: float (nullable = true)\n",
      " |-- latitud: float (nullable = true)\n",
      " |-- fecha_hora: timestamp (nullable = true)\n",
      "\n"
     ]
    }
   ],
   "source": [
    "df_actividades_eventos.printSchema()"
   ]
  },
  {
   "cell_type": "code",
   "execution_count": 19,
   "id": "ba33006b-346e-4a76-ab44-96414ea66e69",
   "metadata": {},
   "outputs": [
    {
     "data": {
      "text/plain": [
       "DataFrame[]"
      ]
     },
     "execution_count": 19,
     "metadata": {},
     "output_type": "execute_result"
    }
   ],
   "source": [
    "spark.sql(\"\"\"\n",
    "CREATE EXTERNAL TABLE actividades_eventos (\n",
    "    id_sensor STRING,\n",
    "    pulse_rate integer,\n",
    "    id_actividad STRING,\n",
    "    longitud FLOAT,\n",
    "    latitud FLOAT,\n",
    "    fecha_hora TIMESTAMP\n",
    ")\n",
    "STORED AS PARQUET\n",
    "LOCATION '/datalake/clean/actividades_eventos';\n",
    "\"\"\")"
   ]
  },
  {
   "cell_type": "code",
   "execution_count": 20,
   "id": "252ac101-d4ae-4ef9-a971-3a5b03790ba8",
   "metadata": {},
   "outputs": [
    {
     "name": "stdout",
     "output_type": "stream",
     "text": [
      "+--------------------+----------+--------------------+--------+--------+-------------------+\n",
      "|           id_sensor|pulse_rate|        id_actividad|longitud| latitud|         fecha_hora|\n",
      "+--------------------+----------+--------------------+--------+--------+-------------------+\n",
      "|853dc9e4-6094-451...|       173|d2b9f5a4-e457-406...|-47.9247|-38.5258|2023-07-08 06:10:00|\n",
      "|278b2f82-087a-469...|       128|742ceebe-7cbd-42a...|100.6432| 60.0272|2023-03-01 02:16:00|\n",
      "|ea0b5fad-ff1d-491...|       148|f079c279-1249-40e...|112.6225| -7.7611|2023-09-17 07:09:00|\n",
      "|f6f4ad28-30e2-4c8...|       110|b8db20aa-9915-426...|100.6432| 60.0272|2023-05-27 10:45:00|\n",
      "|e63edcf3-eca8-412...|       170|59b61169-ecde-498...|-78.4163| 22.2258|2023-08-24 06:49:00|\n",
      "|bab58192-fc85-49c...|        42|8ea971d8-bc3e-44c...|106.3456| 35.3371|2023-05-18 00:35:00|\n",
      "|cafd29e6-3782-4fa...|       197|f0c4dc60-3cf3-4f9...|-47.9247|-38.5258|2023-05-14 09:20:00|\n",
      "|ce9ed08c-ccdc-48d...|       198|32bf0c7b-f21a-44b...|-63.2369|-17.4052|2022-12-08 01:13:00|\n",
      "|999d5a48-6543-4bd...|       166|d25130a0-8a5d-4d4...|105.7858| 17.0296|2023-10-29 14:26:00|\n",
      "|833ffb9f-2bcd-442...|       171|c1cc1ec2-c886-401...|-102.234|  54.263|2023-08-23 02:31:00|\n",
      "|33cd50a4-13de-4c9...|        93|bbf9ea4b-92da-4d5...|106.3456| 35.3371|2023-02-28 05:34:00|\n",
      "|0fea6730-98b8-4ae...|        64|b17e5626-7322-41f...|106.3456| 35.3371|2023-10-16 02:16:00|\n",
      "|8099ae7b-7b54-4e5...|        40|85973b7a-ccbc-468...|-47.9247|-38.5258|2023-04-18 14:43:00|\n",
      "|cacba4b7-580d-40b...|       109|450dfea1-0901-403...|100.6432| 60.0272|2023-04-04 02:09:00|\n",
      "|280b39f5-153d-4c9...|       166|403e65e0-fb25-4c9...|112.6225| -7.7611|2023-06-14 20:30:00|\n",
      "|9293d8f3-cf73-488...|       138|2e97bcf6-f08d-438...|106.3456| 35.3371|2023-03-14 23:00:00|\n",
      "|39bf036f-0d81-4ff...|       144|97a271fd-5536-454...|103.3027|  4.6123|2023-09-27 11:21:00|\n",
      "|f709fcfb-7a2b-43b...|       197|1464ffdb-52a1-4ca...| 21.0284| 44.0241|2023-08-03 23:13:00|\n",
      "|ab68d4ad-5c8a-456...|        62|a0aef17f-da73-46f...| -7.5938|  33.685|2023-01-28 15:36:00|\n",
      "|0ae925b0-bb7d-4c8...|       122|b3b399f8-ded7-4ea...| -0.1257| 51.5086|2023-01-26 21:32:00|\n",
      "+--------------------+----------+--------------------+--------+--------+-------------------+\n",
      "only showing top 20 rows\n",
      "\n"
     ]
    }
   ],
   "source": [
    "spark.sql(\"select * from actividades_eventos\").show()"
   ]
  },
  {
   "cell_type": "markdown",
   "id": "71990680-9100-4b22-8b53-8ef7d2635a58",
   "metadata": {},
   "source": [
    "### Creación de tabla planes_de_entrenamiento"
   ]
  },
  {
   "cell_type": "code",
   "execution_count": 8,
   "id": "888fded8-9fdf-493a-bef4-5e35ef1f5666",
   "metadata": {},
   "outputs": [
    {
     "name": "stdout",
     "output_type": "stream",
     "text": [
      "root\n",
      " |-- id_plan: string (nullable = true)\n",
      " |-- id_usuario: string (nullable = true)\n",
      " |-- tipo: string (nullable = true)\n",
      " |-- plan_duracion: float (nullable = true)\n",
      " |-- instrucciones: string (nullable = true)\n",
      " |-- objetivo: string (nullable = true)\n",
      "\n"
     ]
    }
   ],
   "source": [
    "df_planes = spark.read.parquet(\"/datalake/clean/planes_de_entrenamiento\")\n",
    "df_planes.printSchema()"
   ]
  },
  {
   "cell_type": "code",
   "execution_count": 9,
   "id": "03e628c5-097f-4f9b-9076-9d648cef6c91",
   "metadata": {},
   "outputs": [
    {
     "data": {
      "text/plain": [
       "DataFrame[]"
      ]
     },
     "execution_count": 9,
     "metadata": {},
     "output_type": "execute_result"
    }
   ],
   "source": [
    "spark.sql(\"DROP TABLE planes_de_entrenamiento\")"
   ]
  },
  {
   "cell_type": "code",
   "execution_count": 10,
   "id": "f6d90fbd-0216-4813-8259-62b115e356b3",
   "metadata": {},
   "outputs": [
    {
     "data": {
      "text/plain": [
       "DataFrame[]"
      ]
     },
     "execution_count": 10,
     "metadata": {},
     "output_type": "execute_result"
    }
   ],
   "source": [
    "spark.sql(\"\"\"\n",
    "CREATE EXTERNAL TABLE planes_de_entrenamiento (\n",
    "    id_plan STRING,\n",
    "    id_usuario STRING,\n",
    "    tipo STRING,\n",
    "    plan_duracion FLOAT,\n",
    "    instrucciones STRING,\n",
    "    objetivo STRING\n",
    ")\n",
    "STORED AS PARQUET\n",
    "LOCATION '/datalake/clean/planes_de_entrenamiento';\n",
    "\"\"\")"
   ]
  },
  {
   "cell_type": "code",
   "execution_count": 11,
   "id": "bcfb08bf-e8df-4e5d-be90-2fbb54586eeb",
   "metadata": {},
   "outputs": [
    {
     "name": "stdout",
     "output_type": "stream",
     "text": [
      "+--------------------+--------------------+----------------+-------------+--------------------+--------------------+\n",
      "|             id_plan|          id_usuario|            tipo|plan_duracion|       instrucciones|            objetivo|\n",
      "+--------------------+--------------------+----------------+-------------+--------------------+--------------------+\n",
      "|1a257404-2741-4d5...|62ae8127-7584-4fe...|   media-maraton|         1.63|\"Lorem ipsum dolo...|\"Maecenas leo odi...|\n",
      "|296f1010-fd8b-4fe...|bf91106f-2604-41a...|            hiit|         1.73|\"Nulla ut erat id...|\"Duis bibendum. M...|\n",
      "|d3c2f38b-249f-40c...|5c8d1f57-d9d6-4e0...|condicionamiento|          1.3|\"Proin leo odio p...|\"Donec diam neque...|\n",
      "|b206f2a3-5ddd-47a...|f8c1ed92-4786-4f9...|            otro|         1.25|\"Cum sociis natoq...|\"Quisque id justo...|\n",
      "|147cd3b7-c8c6-4b6...|40613c17-e5e7-4d1...|            hiit|         1.67|\"Duis consequat d...|\"Maecenas leo odi...|\n",
      "|0c384ba2-f2c6-4ca...|88d695a1-1c4a-48e...|        triatlon|          1.0|\"Cras non velit n...|\"Mauris enim leo,...|\n",
      "|bd1a59f8-8928-4e7...|da8f364f-cd65-474...|            otro|         1.56|\"Mauris enim leo ...|\"Integer ac leo. ...|\n",
      "|952079f9-5b2e-4fe...|9f6a1ff5-24ba-478...|            otro|         1.27|\"Duis bibendum fe...|\"Cum sociis natoq...|\n",
      "|2c829d9d-fe05-41c...|217c6845-7c0d-4bf...|   bajar de peso|         1.37|\"Curabitur in lib...|\"Praesent id mass...|\n",
      "|1e2d7203-4d5d-4bc...|a533b8dd-d69d-480...|   bajar de peso|         0.58|\"Fusce consequat....|\"Curabitur gravid...|\n",
      "|5e91d1d7-7a6d-45c...|3fa6fb41-0984-485...|disminuir stress|          1.1|\"Maecenas ut mass...|\"Cum sociis natoq...|\n",
      "|9486001c-d371-445...|09811ba4-6c48-4da...|   bajar de peso|         1.37|\"Mauris enim leo ...|\"Curabitur in lib...|\n",
      "|ae8ad1f2-6948-483...|2c5556f3-2ea1-44b...|            otro|          1.4|\"Vestibulum ac es...|\"Sed sagittis. Na...|\n",
      "|ad24d4a2-6d6a-4fd...|47a17097-468a-476...|   bajar de peso|         1.85|\"Vestibulum ac es...|\"Proin leo odio, ...|\n",
      "|45d226cb-97e2-468...|b16efe3f-0350-43c...|disminuir stress|         0.82|\"Maecenas tristiq...|\"Nullam porttitor...|\n",
      "|6d2e59c2-d835-4d0...|e47d2be1-c11a-496...|disminuir stress|         0.54|\"Proin interdum m...|\"Morbi non lectus...|\n",
      "|3daa65e4-958b-4eb...|baf9dcf3-22ef-475...|   media-maraton|         1.74|\"Cras non velit n...|\"Mauris enim leo,...|\n",
      "|a862dc28-bd36-457...|449c2bb4-4aa9-42c...|condicionamiento|         0.51|\"Proin interdum m...|\"In quis justo. M...|\n",
      "|03469e27-a2dd-436...|9c1fc515-099c-4c8...|        triatlon|         1.98|\"Suspendisse pote...|\"Proin interdum m...|\n",
      "|cd4d63b1-f532-45d...|494a3c85-d471-434...|   bajar de peso|         1.12|\"Sed sagittis. Na...|\"Vestibulum quam ...|\n",
      "+--------------------+--------------------+----------------+-------------+--------------------+--------------------+\n",
      "only showing top 20 rows\n",
      "\n"
     ]
    }
   ],
   "source": [
    "spark.sql(\"select * from planes_de_entrenamiento\").show()"
   ]
  },
  {
   "cell_type": "markdown",
   "id": "06b90ebc-4d8f-4dde-bea5-2ec6d3bc64b3",
   "metadata": {},
   "source": [
    "### Creación de tabla dispositivos"
   ]
  },
  {
   "cell_type": "code",
   "execution_count": 24,
   "id": "1cbdb2da-19a4-41cd-9c37-26c074aeb935",
   "metadata": {},
   "outputs": [
    {
     "name": "stdout",
     "output_type": "stream",
     "text": [
      "root\n",
      " |-- id_dispositivo: string (nullable = true)\n",
      " |-- model: string (nullable = true)\n",
      " |-- brand: string (nullable = true)\n",
      " |-- operating_system: string (nullable = true)\n",
      "\n"
     ]
    }
   ],
   "source": [
    "df_planes = spark.read.parquet(\"/datalake/clean/dispositivos\")\n",
    "df_planes.printSchema()"
   ]
  },
  {
   "cell_type": "code",
   "execution_count": 25,
   "id": "1031cf80-24e8-44d3-83d2-2954c3cc16a1",
   "metadata": {},
   "outputs": [
    {
     "data": {
      "text/plain": [
       "DataFrame[]"
      ]
     },
     "execution_count": 25,
     "metadata": {},
     "output_type": "execute_result"
    }
   ],
   "source": [
    "spark.sql(\"\"\"\n",
    "CREATE EXTERNAL TABLE dispositivos (\n",
    "    id_dispositivo STRING,\n",
    "    model STRING,\n",
    "    brand STRING,\n",
    "    operating_system STRING\n",
    ")\n",
    "STORED AS PARQUET\n",
    "LOCATION '/datalake/clean/dispositivos';\n",
    "\"\"\")"
   ]
  },
  {
   "cell_type": "code",
   "execution_count": 26,
   "id": "24094ee9-6940-4c19-a696-ba3b01a3ae58",
   "metadata": {},
   "outputs": [
    {
     "name": "stdout",
     "output_type": "stream",
     "text": [
      "+--------------------+----------------+-------+----------------+\n",
      "|      id_dispositivo|           model|  brand|operating_system|\n",
      "+--------------------+----------------+-------+----------------+\n",
      "|5f6742cf-0cc3-499...|   iPhone 12 Pro|  Apple|             iOS|\n",
      "|9c9d7ede-4915-4fd...|         Pixel 5| Google|         Android|\n",
      "|af1e4b22-9836-4ff...|    Xperia 1 III|   Sony|         Android|\n",
      "|5d5aa38b-9e5e-412...|     Find X3 Pro|   Oppo|         Android|\n",
      "|39e8db1f-0258-459...|          Velvet|     LG|         Android|\n",
      "|6188ae01-946b-40e...|         X60 Pro|   Vivo|         Android|\n",
      "|0b8d0acd-7391-449...|           9 Pro|OnePlus|         Android|\n",
      "|cac63327-f1b8-4ba...|Galaxy S21 Ultra|Samsung|         Android|\n",
      "|a8ec5dc7-b977-432...|           Mi 11| Xiaomi|         Android|\n",
      "+--------------------+----------------+-------+----------------+\n",
      "\n"
     ]
    }
   ],
   "source": [
    "spark.sql(\"select * from dispositivos\").show()"
   ]
  }
 ],
 "metadata": {
  "kernelspec": {
   "display_name": "Python 3 (ipykernel)",
   "language": "python",
   "name": "python3"
  },
  "language_info": {
   "codemirror_mode": {
    "name": "ipython",
    "version": 3
   },
   "file_extension": ".py",
   "mimetype": "text/x-python",
   "name": "python",
   "nbconvert_exporter": "python",
   "pygments_lexer": "ipython3",
   "version": "3.8.8"
  }
 },
 "nbformat": 4,
 "nbformat_minor": 5
}
